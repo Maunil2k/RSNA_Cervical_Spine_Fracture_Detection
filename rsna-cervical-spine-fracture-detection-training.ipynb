{
 "cells": [
  {
   "cell_type": "code",
   "execution_count": 1,
   "id": "65db88f6",
   "metadata": {
    "execution": {
     "iopub.execute_input": "2022-10-08T04:43:36.782771Z",
     "iopub.status.busy": "2022-10-08T04:43:36.782110Z",
     "iopub.status.idle": "2022-10-08T04:44:17.385986Z",
     "shell.execute_reply": "2022-10-08T04:44:17.384482Z"
    },
    "papermill": {
     "duration": 40.624257,
     "end_time": "2022-10-08T04:44:17.394394",
     "exception": false,
     "start_time": "2022-10-08T04:43:36.770137",
     "status": "completed"
    },
    "tags": []
   },
   "outputs": [
    {
     "name": "stdout",
     "output_type": "stream",
     "text": [
      "Collecting vit-keras\r\n",
      "  Downloading vit_keras-0.1.0-py3-none-any.whl (24 kB)\r\n",
      "Requirement already satisfied: scipy in /opt/conda/lib/python3.7/site-packages (from vit-keras) (1.7.3)\r\n",
      "Collecting validators\r\n",
      "  Downloading validators-0.20.0.tar.gz (30 kB)\r\n",
      "  Preparing metadata (setup.py) ... \u001b[?25l-\b \bdone\r\n",
      "\u001b[?25hRequirement already satisfied: numpy<1.23.0,>=1.16.5 in /opt/conda/lib/python3.7/site-packages (from scipy->vit-keras) (1.21.6)\r\n",
      "Requirement already satisfied: decorator>=3.4.0 in /opt/conda/lib/python3.7/site-packages (from validators->vit-keras) (5.1.1)\r\n",
      "Building wheels for collected packages: validators\r\n",
      "  Building wheel for validators (setup.py) ... \u001b[?25l-\b \b\\\b \bdone\r\n",
      "\u001b[?25h  Created wheel for validators: filename=validators-0.20.0-py3-none-any.whl size=19582 sha256=b9ade3abe792e954d53719c6052bb04d3087f8de8b3286390ead2f35f252492a\r\n",
      "  Stored in directory: /root/.cache/pip/wheels/5f/55/ab/36a76989f7f88d9ca7b1f68da6d94252bb6a8d6ad4f18e04e9\r\n",
      "Successfully built validators\r\n",
      "Installing collected packages: validators, vit-keras\r\n",
      "Successfully installed validators-0.20.0 vit-keras-0.1.0\r\n",
      "\u001b[33mWARNING: Running pip as the 'root' user can result in broken permissions and conflicting behaviour with the system package manager. It is recommended to use a virtual environment instead: https://pip.pypa.io/warnings/venv\u001b[0m\u001b[33m\r\n",
      "\u001b[0mCollecting pylibjpeg-libjpeg\r\n",
      "  Downloading pylibjpeg_libjpeg-1.3.2-cp37-cp37m-manylinux_2_17_x86_64.manylinux2014_x86_64.whl (4.3 MB)\r\n",
      "\u001b[2K     \u001b[90m━━━━━━━━━━━━━━━━━━━━━━━━━━━━━━━━━━━━━━━━\u001b[0m \u001b[32m4.3/4.3 MB\u001b[0m \u001b[31m3.7 MB/s\u001b[0m eta \u001b[36m0:00:00\u001b[0m\r\n",
      "\u001b[?25hRequirement already satisfied: numpy>=1.20 in /opt/conda/lib/python3.7/site-packages (from pylibjpeg-libjpeg) (1.21.6)\r\n",
      "Installing collected packages: pylibjpeg-libjpeg\r\n",
      "Successfully installed pylibjpeg-libjpeg-1.3.2\r\n",
      "\u001b[33mWARNING: Running pip as the 'root' user can result in broken permissions and conflicting behaviour with the system package manager. It is recommended to use a virtual environment instead: https://pip.pypa.io/warnings/venv\u001b[0m\u001b[33m\r\n",
      "\u001b[0mCollecting python-gdcm\r\n",
      "  Downloading python_gdcm-3.0.19-cp37-cp37m-manylinux_2_17_x86_64.manylinux2014_x86_64.whl (13.0 MB)\r\n",
      "\u001b[2K     \u001b[90m━━━━━━━━━━━━━━━━━━━━━━━━━━━━━━━━━━━━━━━━\u001b[0m \u001b[32m13.0/13.0 MB\u001b[0m \u001b[31m15.6 MB/s\u001b[0m eta \u001b[36m0:00:00\u001b[0m\r\n",
      "\u001b[?25hInstalling collected packages: python-gdcm\r\n",
      "Successfully installed python-gdcm-3.0.19\r\n",
      "\u001b[33mWARNING: Running pip as the 'root' user can result in broken permissions and conflicting behaviour with the system package manager. It is recommended to use a virtual environment instead: https://pip.pypa.io/warnings/venv\u001b[0m\u001b[33m\r\n",
      "\u001b[0m"
     ]
    }
   ],
   "source": [
    "# !pip install ../input/vitkerasprerequisites/validators-0.18.2-py3-none-any.whl\n",
    "# !pip install ../input/vitkerasprerequisites/vit_keras-0.1.0-py3-none-any.whl\n",
    "!pip install vit-keras\n",
    "\n",
    "# !pip install ../input/libjpeg-gdcm/pylibjpeg_libjpeg-1.3.1-cp37-cp37m-manylinux_2_17_x86_64.manylinux2014_x86_64.whl\n",
    "!pip install pylibjpeg-libjpeg\n",
    "\n",
    "# !pip install ../input/libjpeg-gdcm/python_gdcm-3.0.15-cp37-cp37m-manylinux_2_17_x86_64.manylinux2014_x86_64.whl\n",
    "!pip install python-gdcm"
   ]
  },
  {
   "cell_type": "code",
   "execution_count": 2,
   "id": "62d7c3a9",
   "metadata": {
    "execution": {
     "iopub.execute_input": "2022-10-08T04:44:17.419695Z",
     "iopub.status.busy": "2022-10-08T04:44:17.419275Z",
     "iopub.status.idle": "2022-10-08T04:44:24.867916Z",
     "shell.execute_reply": "2022-10-08T04:44:24.866858Z"
    },
    "papermill": {
     "duration": 7.464433,
     "end_time": "2022-10-08T04:44:24.870709",
     "exception": false,
     "start_time": "2022-10-08T04:44:17.406276",
     "status": "completed"
    },
    "tags": []
   },
   "outputs": [],
   "source": [
    "import numpy as np\n",
    "import pandas as pd\n",
    "import cv2\n",
    "import pydicom \n",
    "import matplotlib.pyplot as plt\n",
    "import glob\n",
    "import os\n",
    "import random\n",
    "from tqdm.auto import tqdm\n",
    "from sklearn.model_selection import train_test_split\n",
    "import tensorflow as tf\n",
    "from tensorflow.keras.utils import Sequence\n",
    "from tensorflow import keras\n",
    "from vit_keras import vit, utils\n",
    "import tensorflow_addons as tfa\n",
    "import albumentations as A\n",
    "import ast\n",
    "import gc\n",
    "gc.enable()"
   ]
  },
  {
   "cell_type": "code",
   "execution_count": 3,
   "id": "056505fe",
   "metadata": {
    "execution": {
     "iopub.execute_input": "2022-10-08T04:44:24.889033Z",
     "iopub.status.busy": "2022-10-08T04:44:24.887934Z",
     "iopub.status.idle": "2022-10-08T04:44:24.893812Z",
     "shell.execute_reply": "2022-10-08T04:44:24.892614Z"
    },
    "papermill": {
     "duration": 0.016664,
     "end_time": "2022-10-08T04:44:24.895958",
     "exception": false,
     "start_time": "2022-10-08T04:44:24.879294",
     "status": "completed"
    },
    "tags": []
   },
   "outputs": [],
   "source": [
    "cfg = {\n",
    "    'train_df': '../input/rsna-2022-cervical-spine-fracture-detection/train.csv',\n",
    "    'test_df': '../input/rsna-2022-cervical-spine-fracture-detection/test.csv',\n",
    "    'batch_size': 128,\n",
    "    'lr': 1e-04,\n",
    "    'img_size': 258, \n",
    "    'vit_img_size': 256,\n",
    "    'epochs': 25,\n",
    "    'model_path': '../input/trial/best_model.h5'\n",
    "}"
   ]
  },
  {
   "cell_type": "markdown",
   "id": "405931f8",
   "metadata": {
    "papermill": {
     "duration": 0.00753,
     "end_time": "2022-10-08T04:44:24.911178",
     "exception": false,
     "start_time": "2022-10-08T04:44:24.903648",
     "status": "completed"
    },
    "tags": []
   },
   "source": [
    "# Data Preparation"
   ]
  },
  {
   "cell_type": "code",
   "execution_count": 4,
   "id": "1a315c97",
   "metadata": {
    "execution": {
     "iopub.execute_input": "2022-10-08T04:44:24.936832Z",
     "iopub.status.busy": "2022-10-08T04:44:24.936482Z",
     "iopub.status.idle": "2022-10-08T04:44:26.893780Z",
     "shell.execute_reply": "2022-10-08T04:44:26.892093Z"
    },
    "papermill": {
     "duration": 1.981221,
     "end_time": "2022-10-08T04:44:26.900377",
     "exception": false,
     "start_time": "2022-10-08T04:44:24.919156",
     "status": "completed"
    },
    "tags": []
   },
   "outputs": [
    {
     "data": {
      "text/html": [
       "<div>\n",
       "<style scoped>\n",
       "    .dataframe tbody tr th:only-of-type {\n",
       "        vertical-align: middle;\n",
       "    }\n",
       "\n",
       "    .dataframe tbody tr th {\n",
       "        vertical-align: top;\n",
       "    }\n",
       "\n",
       "    .dataframe thead th {\n",
       "        text-align: right;\n",
       "    }\n",
       "</style>\n",
       "<table border=\"1\" class=\"dataframe\">\n",
       "  <thead>\n",
       "    <tr style=\"text-align: right;\">\n",
       "      <th></th>\n",
       "      <th>img_paths</th>\n",
       "      <th>C_labels</th>\n",
       "      <th>patient_overall</th>\n",
       "    </tr>\n",
       "  </thead>\n",
       "  <tbody>\n",
       "    <tr>\n",
       "      <th>0</th>\n",
       "      <td>../input/rsna-2022-cervical-spine-fracture-det...</td>\n",
       "      <td>[0, 1, 0, 0, 0, 0, 0]</td>\n",
       "      <td>1</td>\n",
       "    </tr>\n",
       "    <tr>\n",
       "      <th>1</th>\n",
       "      <td>../input/rsna-2022-cervical-spine-fracture-det...</td>\n",
       "      <td>[0, 1, 0, 0, 0, 0, 0]</td>\n",
       "      <td>1</td>\n",
       "    </tr>\n",
       "    <tr>\n",
       "      <th>2</th>\n",
       "      <td>../input/rsna-2022-cervical-spine-fracture-det...</td>\n",
       "      <td>[0, 1, 0, 0, 0, 0, 0]</td>\n",
       "      <td>1</td>\n",
       "    </tr>\n",
       "    <tr>\n",
       "      <th>3</th>\n",
       "      <td>../input/rsna-2022-cervical-spine-fracture-det...</td>\n",
       "      <td>[0, 1, 0, 0, 0, 0, 0]</td>\n",
       "      <td>1</td>\n",
       "    </tr>\n",
       "    <tr>\n",
       "      <th>4</th>\n",
       "      <td>../input/rsna-2022-cervical-spine-fracture-det...</td>\n",
       "      <td>[0, 1, 0, 0, 0, 0, 0]</td>\n",
       "      <td>1</td>\n",
       "    </tr>\n",
       "  </tbody>\n",
       "</table>\n",
       "</div>"
      ],
      "text/plain": [
       "                                           img_paths               C_labels  \\\n",
       "0  ../input/rsna-2022-cervical-spine-fracture-det...  [0, 1, 0, 0, 0, 0, 0]   \n",
       "1  ../input/rsna-2022-cervical-spine-fracture-det...  [0, 1, 0, 0, 0, 0, 0]   \n",
       "2  ../input/rsna-2022-cervical-spine-fracture-det...  [0, 1, 0, 0, 0, 0, 0]   \n",
       "3  ../input/rsna-2022-cervical-spine-fracture-det...  [0, 1, 0, 0, 0, 0, 0]   \n",
       "4  ../input/rsna-2022-cervical-spine-fracture-det...  [0, 1, 0, 0, 0, 0, 0]   \n",
       "\n",
       "  patient_overall  \n",
       "0               1  \n",
       "1               1  \n",
       "2               1  \n",
       "3               1  \n",
       "4               1  "
      ]
     },
     "execution_count": 4,
     "metadata": {},
     "output_type": "execute_result"
    }
   ],
   "source": [
    "data_df = pd.read_csv('../input/rsna-data/full_data.csv', dtype={\"patient_overall\": str})\n",
    "data_df.head()"
   ]
  },
  {
   "cell_type": "code",
   "execution_count": 5,
   "id": "b7077800",
   "metadata": {
    "execution": {
     "iopub.execute_input": "2022-10-08T04:44:26.918937Z",
     "iopub.status.busy": "2022-10-08T04:44:26.918625Z",
     "iopub.status.idle": "2022-10-08T04:44:27.025791Z",
     "shell.execute_reply": "2022-10-08T04:44:27.024485Z"
    },
    "papermill": {
     "duration": 0.119799,
     "end_time": "2022-10-08T04:44:27.029661",
     "exception": false,
     "start_time": "2022-10-08T04:44:26.909862",
     "status": "completed"
    },
    "tags": []
   },
   "outputs": [
    {
     "name": "stdout",
     "output_type": "stream",
     "text": [
      "<class 'pandas.core.frame.DataFrame'>\n",
      "RangeIndex: 711601 entries, 0 to 711600\n",
      "Data columns (total 3 columns):\n",
      " #   Column           Non-Null Count   Dtype \n",
      "---  ------           --------------   ----- \n",
      " 0   img_paths        711601 non-null  object\n",
      " 1   C_labels         711601 non-null  object\n",
      " 2   patient_overall  711601 non-null  object\n",
      "dtypes: object(3)\n",
      "memory usage: 16.3+ MB\n"
     ]
    }
   ],
   "source": [
    "data_df.info()"
   ]
  },
  {
   "cell_type": "code",
   "execution_count": 6,
   "id": "caec76a1",
   "metadata": {
    "execution": {
     "iopub.execute_input": "2022-10-08T04:44:27.050253Z",
     "iopub.status.busy": "2022-10-08T04:44:27.049856Z",
     "iopub.status.idle": "2022-10-08T04:44:27.270850Z",
     "shell.execute_reply": "2022-10-08T04:44:27.269789Z"
    },
    "papermill": {
     "duration": 0.2344,
     "end_time": "2022-10-08T04:44:27.273467",
     "exception": false,
     "start_time": "2022-10-08T04:44:27.039067",
     "status": "completed"
    },
    "tags": []
   },
   "outputs": [],
   "source": [
    "data_df = data_df.sample(frac=1.0, random_state=42).reset_index(drop=True)\n",
    "data_sample = data_df[:15000]"
   ]
  },
  {
   "cell_type": "code",
   "execution_count": 7,
   "id": "c2683cdf",
   "metadata": {
    "execution": {
     "iopub.execute_input": "2022-10-08T04:44:27.291927Z",
     "iopub.status.busy": "2022-10-08T04:44:27.291599Z",
     "iopub.status.idle": "2022-10-08T04:44:27.525618Z",
     "shell.execute_reply": "2022-10-08T04:44:27.524613Z"
    },
    "papermill": {
     "duration": 0.245175,
     "end_time": "2022-10-08T04:44:27.527649",
     "exception": false,
     "start_time": "2022-10-08T04:44:27.282474",
     "status": "completed"
    },
    "tags": []
   },
   "outputs": [
    {
     "data": {
      "text/html": [
       "<div>\n",
       "<style scoped>\n",
       "    .dataframe tbody tr th:only-of-type {\n",
       "        vertical-align: middle;\n",
       "    }\n",
       "\n",
       "    .dataframe tbody tr th {\n",
       "        vertical-align: top;\n",
       "    }\n",
       "\n",
       "    .dataframe thead th {\n",
       "        text-align: right;\n",
       "    }\n",
       "</style>\n",
       "<table border=\"1\" class=\"dataframe\">\n",
       "  <thead>\n",
       "    <tr style=\"text-align: right;\">\n",
       "      <th></th>\n",
       "      <th>img_paths</th>\n",
       "      <th>C_labels</th>\n",
       "      <th>patient_overall</th>\n",
       "    </tr>\n",
       "  </thead>\n",
       "  <tbody>\n",
       "    <tr>\n",
       "      <th>0</th>\n",
       "      <td>../input/rsna-2022-cervical-spine-fracture-det...</td>\n",
       "      <td>[0, 0, 0, 0, 0, 0, 0]</td>\n",
       "      <td>0</td>\n",
       "    </tr>\n",
       "    <tr>\n",
       "      <th>1</th>\n",
       "      <td>../input/rsna-2022-cervical-spine-fracture-det...</td>\n",
       "      <td>[0, 0, 0, 0, 0, 0, 0]</td>\n",
       "      <td>0</td>\n",
       "    </tr>\n",
       "    <tr>\n",
       "      <th>2</th>\n",
       "      <td>../input/rsna-2022-cervical-spine-fracture-det...</td>\n",
       "      <td>[0, 0, 0, 0, 1, 1, 0]</td>\n",
       "      <td>1</td>\n",
       "    </tr>\n",
       "    <tr>\n",
       "      <th>3</th>\n",
       "      <td>../input/rsna-2022-cervical-spine-fracture-det...</td>\n",
       "      <td>[0, 0, 0, 0, 0, 0, 0]</td>\n",
       "      <td>0</td>\n",
       "    </tr>\n",
       "    <tr>\n",
       "      <th>4</th>\n",
       "      <td>../input/rsna-2022-cervical-spine-fracture-det...</td>\n",
       "      <td>[0, 0, 0, 0, 0, 0, 1]</td>\n",
       "      <td>1</td>\n",
       "    </tr>\n",
       "  </tbody>\n",
       "</table>\n",
       "</div>"
      ],
      "text/plain": [
       "                                           img_paths               C_labels  \\\n",
       "0  ../input/rsna-2022-cervical-spine-fracture-det...  [0, 0, 0, 0, 0, 0, 0]   \n",
       "1  ../input/rsna-2022-cervical-spine-fracture-det...  [0, 0, 0, 0, 0, 0, 0]   \n",
       "2  ../input/rsna-2022-cervical-spine-fracture-det...  [0, 0, 0, 0, 1, 1, 0]   \n",
       "3  ../input/rsna-2022-cervical-spine-fracture-det...  [0, 0, 0, 0, 0, 0, 0]   \n",
       "4  ../input/rsna-2022-cervical-spine-fracture-det...  [0, 0, 0, 0, 0, 0, 1]   \n",
       "\n",
       "  patient_overall  \n",
       "0               0  \n",
       "1               0  \n",
       "2               1  \n",
       "3               0  \n",
       "4               1  "
      ]
     },
     "execution_count": 7,
     "metadata": {},
     "output_type": "execute_result"
    }
   ],
   "source": [
    "try:\n",
    "    sample_train_df, sample_valid_df = train_test_split(data_sample, test_size=0.2, random_state=42, shuffle=True)\n",
    "    sample_train_df.reset_index(drop=True, inplace=True); sample_valid_df.reset_index(drop=True, inplace=True)\n",
    "    del data_sample, data_df; gc.collect()\n",
    "    sample_train_df.head()\n",
    "except: \n",
    "    data_df = pd.read_csv('../input/rsna-data/full_data.csv', dtype={\"patient_overall\": str})\n",
    "    data_df = data_df.sample(frac=1.0, random_state=42).reset_index(drop=True)\n",
    "    data_sample = data_df[:15000]\n",
    "    sample_train_df, sample_valid_df = train_test_split(data_sample, test_size=0.2, random_state=42, shuffle=True)\n",
    "    sample_train_df.reset_index(drop=True, inplace=True); sample_valid_df.reset_index(drop=True, inplace=True)\n",
    "    del data_sample, data_df; gc.collect()\n",
    "sample_train_df.head()\n",
    "#sample_valid_df.head()"
   ]
  },
  {
   "cell_type": "markdown",
   "id": "aca1249f",
   "metadata": {
    "papermill": {
     "duration": 0.007888,
     "end_time": "2022-10-08T04:44:27.543867",
     "exception": false,
     "start_time": "2022-10-08T04:44:27.535979",
     "status": "completed"
    },
    "tags": []
   },
   "source": [
    "# Data Pipeline"
   ]
  },
  {
   "cell_type": "code",
   "execution_count": 8,
   "id": "7a8de337",
   "metadata": {
    "execution": {
     "iopub.execute_input": "2022-10-08T04:44:27.561764Z",
     "iopub.status.busy": "2022-10-08T04:44:27.561398Z",
     "iopub.status.idle": "2022-10-08T04:44:27.573911Z",
     "shell.execute_reply": "2022-10-08T04:44:27.572790Z"
    },
    "papermill": {
     "duration": 0.024477,
     "end_time": "2022-10-08T04:44:27.576615",
     "exception": false,
     "start_time": "2022-10-08T04:44:27.552138",
     "status": "completed"
    },
    "tags": []
   },
   "outputs": [],
   "source": [
    "class DataPipeLine(Sequence):\n",
    "    def __init__(\n",
    "        self,\n",
    "        df,\n",
    "        batch_size = cfg['batch_size'],\n",
    "        img_size = cfg['img_size'],\n",
    "        shuffle = True,\n",
    "        augments = True\n",
    "    ):\n",
    "        self.df = df\n",
    "        self.batch_size = batch_size\n",
    "        self.img_size = img_size\n",
    "        self.shuffle = shuffle\n",
    "        self.augments = augments\n",
    "        self.transforms = A.Compose([\n",
    "            A.GaussNoise(p=0.25),\n",
    "            A.HorizontalFlip(p=0.5),\n",
    "            A.VerticalFlip(p=0.5),\n",
    "            A.OneOf([\n",
    "                A.RandomCrop(width=self.img_size, height=self.img_size, p=1.0),\n",
    "                A.RandomResizedCrop(height=self.img_size, width=self.img_size, p = 1.0)\n",
    "            ], p=0.5),\n",
    "            A.RandomBrightnessContrast(p=0.2),\n",
    "            A.RandomRotate90(p=0.25)\n",
    "        ])\n",
    "        \n",
    "    def on_epoch_end(self):\n",
    "        if self.shuffle:\n",
    "            self.df = self.df.sample(frac=1.0, random_state=42).reset_index(drop=True)\n",
    "        return self.df\n",
    "    \n",
    "    def __len__(self):\n",
    "        return len(self.df) // self.batch_size\n",
    "    \n",
    "    def __getitem__(self, idx):\n",
    "        X, Y = [], []\n",
    "        batch = self.df[idx * self.batch_size: (idx+1)*self.batch_size]\n",
    "        for _, row in batch.iterrows():\n",
    "            #row = self.df.loc[i]\n",
    "            data = pydicom.dcmread(row['img_paths'])\n",
    "            img = pydicom.pixel_data_handlers.util.apply_voi_lut(data.pixel_array, data)\n",
    "            img = cv2.resize(img, (self.img_size, self.img_size)).reshape((self.img_size, self.img_size, 1))\n",
    "            #img = cv2.cvtColor(img, cv2.COLOR_GRAY2RGB)\n",
    "            img = img.astype(np.float32)\n",
    "            label = ast.literal_eval(row['C_labels'])\n",
    "            label.append(int(row['patient_overall']))\n",
    "            if self.augments:\n",
    "                img = self.transforms(image=img)['image']\n",
    "            X.append(img); Y.append(label)\n",
    "        return np.array(X), np.array(Y).astype(np.float32)\n",
    "#     def __call__(self):\n",
    "#         for idx in range(self.__len__()):\n",
    "#             yield self.__getitem__(idx)"
   ]
  },
  {
   "cell_type": "code",
   "execution_count": 9,
   "id": "661ebf5f",
   "metadata": {
    "execution": {
     "iopub.execute_input": "2022-10-08T04:44:27.594886Z",
     "iopub.status.busy": "2022-10-08T04:44:27.594519Z",
     "iopub.status.idle": "2022-10-08T04:44:27.600047Z",
     "shell.execute_reply": "2022-10-08T04:44:27.598887Z"
    },
    "papermill": {
     "duration": 0.017232,
     "end_time": "2022-10-08T04:44:27.602253",
     "exception": false,
     "start_time": "2022-10-08T04:44:27.585021",
     "status": "completed"
    },
    "tags": []
   },
   "outputs": [],
   "source": [
    "# train_data = tf.data.Dataset.from_generator(\n",
    "#     DataPipeLine(sample_train_df),\n",
    "#     output_types=(tf.float32, tf.float32),\n",
    "#     output_shapes=((cfg['img_size'], cfg['img_size'], 1), (8,))\n",
    "# )\n",
    "\n",
    "# valid_data = tf.data.Dataset.from_generator(\n",
    "#     DataPipeLine(sample_valid_df),\n",
    "#     output_types=(tf.float32, tf.float32),\n",
    "#     output_shapes=((cfg['img_size'], cfg['img_size'], 1), (8,))\n",
    "# )\n",
    "\n",
    "# at = tf.data.AUTOTUNE\n",
    "# train_data = train_data.prefetch(at).batch(cfg['batch_size'])\n",
    "# valid_data = valid_data.prefetch(at).batch(cfg['batch_size'])\n",
    "train_data = DataPipeLine(sample_train_df)\n",
    "valid_data = DataPipeLine(sample_valid_df, augments = False)"
   ]
  },
  {
   "cell_type": "markdown",
   "id": "d39be4ee",
   "metadata": {
    "papermill": {
     "duration": 0.008026,
     "end_time": "2022-10-08T04:44:27.618588",
     "exception": false,
     "start_time": "2022-10-08T04:44:27.610562",
     "status": "completed"
    },
    "tags": []
   },
   "source": [
    "# Models"
   ]
  },
  {
   "cell_type": "code",
   "execution_count": 10,
   "id": "9d6bd258",
   "metadata": {
    "execution": {
     "iopub.execute_input": "2022-10-08T04:44:27.636343Z",
     "iopub.status.busy": "2022-10-08T04:44:27.635999Z",
     "iopub.status.idle": "2022-10-08T04:45:34.465880Z",
     "shell.execute_reply": "2022-10-08T04:45:34.463946Z"
    },
    "papermill": {
     "duration": 66.841395,
     "end_time": "2022-10-08T04:45:34.468046",
     "exception": false,
     "start_time": "2022-10-08T04:44:27.626651",
     "status": "completed"
    },
    "tags": []
   },
   "outputs": [
    {
     "name": "stderr",
     "output_type": "stream",
     "text": [
      "2022-10-08 04:44:27.748484: I tensorflow/stream_executor/cuda/cuda_gpu_executor.cc:937] successful NUMA node read from SysFS had negative value (-1), but there must be at least one NUMA node, so returning NUMA node zero\n",
      "2022-10-08 04:44:27.852530: I tensorflow/stream_executor/cuda/cuda_gpu_executor.cc:937] successful NUMA node read from SysFS had negative value (-1), but there must be at least one NUMA node, so returning NUMA node zero\n",
      "2022-10-08 04:44:27.853397: I tensorflow/stream_executor/cuda/cuda_gpu_executor.cc:937] successful NUMA node read from SysFS had negative value (-1), but there must be at least one NUMA node, so returning NUMA node zero\n",
      "2022-10-08 04:44:27.854842: I tensorflow/core/platform/cpu_feature_guard.cc:142] This TensorFlow binary is optimized with oneAPI Deep Neural Network Library (oneDNN) to use the following CPU instructions in performance-critical operations:  AVX2 AVX512F FMA\n",
      "To enable them in other operations, rebuild TensorFlow with the appropriate compiler flags.\n",
      "2022-10-08 04:44:27.855229: I tensorflow/stream_executor/cuda/cuda_gpu_executor.cc:937] successful NUMA node read from SysFS had negative value (-1), but there must be at least one NUMA node, so returning NUMA node zero\n",
      "2022-10-08 04:44:27.856214: I tensorflow/stream_executor/cuda/cuda_gpu_executor.cc:937] successful NUMA node read from SysFS had negative value (-1), but there must be at least one NUMA node, so returning NUMA node zero\n",
      "2022-10-08 04:44:27.857140: I tensorflow/stream_executor/cuda/cuda_gpu_executor.cc:937] successful NUMA node read from SysFS had negative value (-1), but there must be at least one NUMA node, so returning NUMA node zero\n",
      "2022-10-08 04:44:30.077195: I tensorflow/stream_executor/cuda/cuda_gpu_executor.cc:937] successful NUMA node read from SysFS had negative value (-1), but there must be at least one NUMA node, so returning NUMA node zero\n",
      "2022-10-08 04:44:30.078120: I tensorflow/stream_executor/cuda/cuda_gpu_executor.cc:937] successful NUMA node read from SysFS had negative value (-1), but there must be at least one NUMA node, so returning NUMA node zero\n",
      "2022-10-08 04:44:30.078821: I tensorflow/stream_executor/cuda/cuda_gpu_executor.cc:937] successful NUMA node read from SysFS had negative value (-1), but there must be at least one NUMA node, so returning NUMA node zero\n",
      "2022-10-08 04:44:30.079434: I tensorflow/core/common_runtime/gpu/gpu_device.cc:1510] Created device /job:localhost/replica:0/task:0/device:GPU:0 with 15403 MB memory:  -> device: 0, name: Tesla P100-PCIE-16GB, pci bus id: 0000:00:04.0, compute capability: 6.0\n"
     ]
    },
    {
     "name": "stdout",
     "output_type": "stream",
     "text": [
      "Downloading data from https://github.com/faustomorales/vit-keras/releases/download/dl/ViT-B_32_imagenet21k+imagenet2012.npz\n",
      "353255424/353253686 [==============================] - 58s 0us/step\n",
      "353263616/353253686 [==============================] - 58s 0us/step\n"
     ]
    },
    {
     "name": "stderr",
     "output_type": "stream",
     "text": [
      "/opt/conda/lib/python3.7/site-packages/vit_keras/utils.py:83: UserWarning: Resizing position embeddings from 12, 12 to 8, 8\n",
      "  UserWarning,\n"
     ]
    },
    {
     "name": "stdout",
     "output_type": "stream",
     "text": [
      "Model: \"vision_transformer\"\n",
      "_________________________________________________________________\n",
      "Layer (type)                 Output Shape              Param #   \n",
      "=================================================================\n",
      "conv2d (Conv2D)              (None, 256, 256, 3)       30        \n",
      "_________________________________________________________________\n",
      "vit-b32 (Functional)         (None, 768)               87466752  \n",
      "_________________________________________________________________\n",
      "flatten (Flatten)            (None, 768)               0         \n",
      "_________________________________________________________________\n",
      "batch_normalization (BatchNo (None, 768)               3072      \n",
      "_________________________________________________________________\n",
      "dense (Dense)                (None, 64)                49216     \n",
      "_________________________________________________________________\n",
      "batch_normalization_1 (Batch (None, 64)                256       \n",
      "_________________________________________________________________\n",
      "dense_1 (Dense)              (None, 8)                 520       \n",
      "=================================================================\n",
      "Total params: 87,519,846\n",
      "Trainable params: 87,518,182\n",
      "Non-trainable params: 1,664\n",
      "_________________________________________________________________\n"
     ]
    }
   ],
   "source": [
    "def ResNet_BiLSTM_Model(bilstm=256, weights = 'imagenet', augments=False):\n",
    "    input_tensor = keras.layers.Input(shape=(cfg['img_size'], cfg['img_size'], 1))\n",
    "    if augments:\n",
    "        x = keras.layers.experimental.preprocessing.RandomFlip('horizontal')(input_tensor)\n",
    "        x = keras.layers.experimental.preprocessing.RandomContrast(0.1, seed=0)(x)\n",
    "        x = keras.layers.experimental.preprocessing.RandomRotation(factor=0.25, seed=0)(x)\n",
    "        x = keras.layers.experimental.preprocessing.RandomZoom(height_factor=0.2, width_factor=0.1, seed=0)(x)\n",
    "        x = keras.layers.Conv2D(3, 3, padding='valid')(x)\n",
    "        x = keras.applications.ResNet50V2(weights=weights, include_top=False)(x)\n",
    "        \n",
    "    else:\n",
    "        x = keras.layers.Conv2D(3, 3, padding='valid')(input_tensor)\n",
    "        x = keras.applications.ResNet50V2(weights=weights, include_top=False)(x)\n",
    "    \n",
    "    x = keras.layers.GlobalAveragePooling2D()(x)\n",
    "    x = keras.layers.Reshape((2048, 1))(x)\n",
    "    x = keras.layers.Bidirectional(keras.layers.LSTM(bilstm, return_sequences=False, activation='relu'))(x)\n",
    "    x = keras.layers.BatchNormalization()(x)\n",
    "    x = keras.layers.Dense(8, activation='sigmoid')(x)\n",
    "    \n",
    "    return keras.models.Model(inputs=input_tensor, outputs=x)\n",
    "\n",
    "\n",
    "\n",
    "def ViT_Model():\n",
    "    Vit = vit.vit_b32(\n",
    "        image_size = (cfg['vit_img_size'], cfg['vit_img_size']),\n",
    "        activation = 'softmax',\n",
    "        pretrained = True,\n",
    "        include_top = False,\n",
    "        pretrained_top = False,\n",
    "        weights='imagenet21k+imagenet2012',\n",
    "        classes = 1000)\n",
    "\n",
    "    model = tf.keras.Sequential([\n",
    "#             tf.keras.layers.experimental.preprocessing.RandomFlip('horizontal', seed=0),\n",
    "#             tf.keras.layers.experimental.preprocessing.RandomFlip('vertical', seed=15),\n",
    "#             tf.keras.layers.experimental.preprocessing.RandomContrast(0.1, seed=30),\n",
    "#             tf.keras.layers.experimental.preprocessing.RandomTranslation(0.1, 0.1, seed=45),\n",
    "#             tf.keras.layers.experimental.preprocessing.RandomRotation(factor=0.25, seed=60),\n",
    "#             tf.keras.layers.experimental.preprocessing.RandomZoom(height_factor=0.2, width_factor=0.1, seed=75),\n",
    "            tf.keras.layers.Conv2D(3, 3, padding='valid', input_shape=(cfg['img_size'], cfg['img_size'], 1)),\n",
    "            Vit,\n",
    "            tf.keras.layers.Flatten(),\n",
    "            tf.keras.layers.BatchNormalization(),\n",
    "            tf.keras.layers.Dense(64, activation = tfa.activations.gelu),\n",
    "            tf.keras.layers.BatchNormalization(),\n",
    "            tf.keras.layers.Dense(8, 'sigmoid')\n",
    "        ], name = 'vision_transformer'\n",
    "    )\n",
    "    model.build(input_shape=(None, cfg['img_size'], cfg['img_size'], 1))\n",
    "    return model\n",
    "    \n",
    "\n",
    "def competiton_loss(y_true, y_pred):\n",
    "\n",
    "    competition_weights = {\n",
    "        '-' : tf.constant([1, 1, 1, 1, 1, 1, 1, 7], dtype=tf.float32),\n",
    "        '+' : tf.constant([2, 2, 2, 2, 2, 2, 2, 14], dtype=tf.float32)\n",
    "    }\n",
    "    \n",
    "    loss = tf.keras.losses.BinaryCrossentropy(reduction=tf.keras.losses.Reduction.NONE)(tf.expand_dims(y_true, -1),tf.expand_dims(y_pred,-1))\n",
    "    weights  = y_true*competition_weights['+'] + (1-y_true)*competition_weights['-'] \n",
    "    \n",
    "    loss = tf.reduce_mean(tf.reduce_sum(loss * weights, axis=1)) / tf.reduce_sum(weights)\n",
    "    return loss\n",
    "\n",
    "#model = tf.keras.models.load_model(cfg['model_path'], custom_objects={'competiton_loss': competiton_loss}, compile=False)\n",
    "model = ViT_Model()\n",
    "model.summary()"
   ]
  },
  {
   "cell_type": "code",
   "execution_count": 11,
   "id": "43cf0e98",
   "metadata": {
    "execution": {
     "iopub.execute_input": "2022-10-08T04:45:34.514859Z",
     "iopub.status.busy": "2022-10-08T04:45:34.514200Z",
     "iopub.status.idle": "2022-10-08T05:08:28.682108Z",
     "shell.execute_reply": "2022-10-08T05:08:28.680965Z"
    },
    "papermill": {
     "duration": 1374.195321,
     "end_time": "2022-10-08T05:08:28.685634",
     "exception": false,
     "start_time": "2022-10-08T04:45:34.490313",
     "status": "completed"
    },
    "tags": []
   },
   "outputs": [
    {
     "name": "stderr",
     "output_type": "stream",
     "text": [
      "2022-10-08 04:45:37.232690: I tensorflow/compiler/mlir/mlir_graph_optimization_pass.cc:185] None of the MLIR Optimization Passes are enabled (registered 2)\n"
     ]
    },
    {
     "name": "stdout",
     "output_type": "stream",
     "text": [
      "Epoch 1/25\n"
     ]
    },
    {
     "name": "stderr",
     "output_type": "stream",
     "text": [
      "2022-10-08 04:46:26.531218: I tensorflow/stream_executor/cuda/cuda_dnn.cc:369] Loaded cuDNN version 8005\n"
     ]
    },
    {
     "name": "stdout",
     "output_type": "stream",
     "text": [
      "93/93 [==============================] - 362s 3s/step - loss: 0.0061 - val_loss: 0.0052\n",
      "Epoch 2/25\n",
      "93/93 [==============================] - 252s 3s/step - loss: 0.0056 - val_loss: 0.0055\n",
      "Epoch 3/25\n",
      "93/93 [==============================] - 196s 2s/step - loss: 0.0054 - val_loss: 0.0055\n",
      "Epoch 4/25\n",
      "93/93 [==============================] - 184s 2s/step - loss: 0.0054 - val_loss: 0.0055\n",
      "Epoch 5/25\n",
      "93/93 [==============================] - 185s 2s/step - loss: 0.0053 - val_loss: 0.0054\n",
      "Epoch 6/25\n",
      "93/93 [==============================] - 184s 2s/step - loss: 0.0053 - val_loss: 0.0054\n"
     ]
    }
   ],
   "source": [
    "model.compile(\n",
    "    optimizer=tfa.optimizers.RectifiedAdam(learning_rate=cfg['lr']),\n",
    "    loss= competiton_loss,\n",
    "    #metrics = ['accuracy']\n",
    ")\n",
    "\n",
    "checkpoint = keras.callbacks.ModelCheckpoint(\n",
    "    filepath='/kaggle/working/best_model.h5',\n",
    "    monitor='val_loss',\n",
    "    verbose=0,\n",
    "    save_best_only=True,\n",
    "    mode='min'\n",
    ")\n",
    "\n",
    "reduce_lr = keras.callbacks.ReduceLROnPlateau(\n",
    "    monitor='val_loss',\n",
    "    factor=0.9,\n",
    "    min_lr=1e-07,\n",
    "    patience=3,\n",
    "    verbose=0,\n",
    "    mode='min'\n",
    ")\n",
    "\n",
    "es = keras.callbacks.EarlyStopping(\n",
    "    patience=5,\n",
    "    min_delta=0,\n",
    "    monitor='val_loss',\n",
    "    restore_best_weights=True,\n",
    "    verbose=0,\n",
    "    mode='min',\n",
    "    baseline=None\n",
    ")\n",
    "\n",
    "history = model.fit(\n",
    "    train_data, \n",
    "    validation_data=valid_data,\n",
    "    epochs = cfg['epochs'],\n",
    "    callbacks=[es,reduce_lr,checkpoint],\n",
    "    verbose=1\n",
    ")"
   ]
  },
  {
   "cell_type": "code",
   "execution_count": 12,
   "id": "5ffd4af1",
   "metadata": {
    "execution": {
     "iopub.execute_input": "2022-10-08T05:08:28.791540Z",
     "iopub.status.busy": "2022-10-08T05:08:28.790532Z",
     "iopub.status.idle": "2022-10-08T05:08:29.046061Z",
     "shell.execute_reply": "2022-10-08T05:08:29.045088Z"
    },
    "papermill": {
     "duration": 0.309964,
     "end_time": "2022-10-08T05:08:29.048196",
     "exception": false,
     "start_time": "2022-10-08T05:08:28.738232",
     "status": "completed"
    },
    "tags": []
   },
   "outputs": [
    {
     "data": {
      "image/png": "[encoded data removed]",
      "text/plain": [
       "<Figure size 432x288 with 1 Axes>"
      ]
     },
     "metadata": {
      "needs_background": "light"
     },
     "output_type": "display_data"
    }
   ],
   "source": [
    "plt.plot(history.history['loss'])\n",
    "plt.plot(history.history['val_loss'])\n",
    "plt.title('model loss')\n",
    "plt.ylabel('loss')\n",
    "plt.xlabel('epoch')\n",
    "plt.legend(['train', 'test'], loc='upper left')\n",
    "plt.show()"
   ]
  },
  {
   "cell_type": "code",
   "execution_count": 13,
   "id": "d4ca0ec4",
   "metadata": {
    "execution": {
     "iopub.execute_input": "2022-10-08T05:08:29.154767Z",
     "iopub.status.busy": "2022-10-08T05:08:29.154387Z",
     "iopub.status.idle": "2022-10-08T05:08:29.158731Z",
     "shell.execute_reply": "2022-10-08T05:08:29.157714Z"
    },
    "papermill": {
     "duration": 0.059368,
     "end_time": "2022-10-08T05:08:29.160889",
     "exception": false,
     "start_time": "2022-10-08T05:08:29.101521",
     "status": "completed"
    },
    "tags": []
   },
   "outputs": [],
   "source": [
    "# plt.plot(history.history['accuracy'])\n",
    "# plt.plot(history.history['val_accuracy'])\n",
    "# plt.title('model accuracy')\n",
    "# plt.ylabel('loss')\n",
    "# plt.xlabel('epoch')\n",
    "# plt.legend(['train', 'test'], loc='upper left')\n",
    "# plt.show()"
   ]
  },
  {
   "cell_type": "markdown",
   "id": "91b6c5cd",
   "metadata": {
    "papermill": {
     "duration": 0.051427,
     "end_time": "2022-10-08T05:08:29.263878",
     "exception": false,
     "start_time": "2022-10-08T05:08:29.212451",
     "status": "completed"
    },
    "tags": []
   },
   "source": [
    "# References:\n",
    "1) Loss function: https://www.kaggle.com/code/vmuzhichenko/rsna-22-resnet-50-3d-train"
   ]
  }
 ],
 "metadata": {
  "kernelspec": {
   "display_name": "Python 3",
   "language": "python",
   "name": "python3"
  },
  "language_info": {
   "codemirror_mode": {
    "name": "ipython",
    "version": 3
   },
   "file_extension": ".py",
   "mimetype": "text/x-python",
   "name": "python",
   "nbconvert_exporter": "python",
   "pygments_lexer": "ipython3",
   "version": "3.7.12"
  },
  "papermill": {
   "default_parameters": {},
   "duration": 1504.144328,
   "end_time": "2022-10-08T05:08:33.155041",
   "environment_variables": {},
   "exception": null,
   "input_path": "__notebook__.ipynb",
   "output_path": "__notebook__.ipynb",
   "parameters": {},
   "start_time": "2022-10-08T04:43:29.010713",
   "version": "2.3.4"
  }
 },
 "nbformat": 4,
 "nbformat_minor": 5
}
